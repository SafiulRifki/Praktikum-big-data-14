{
  "cells": [
    {
      "cell_type": "markdown",
      "id": "e2a030e3",
      "metadata": {
        "id": "e2a030e3"
      },
      "source": [
        "# Hands-On Pertemuan 14: Advanced Machine Learning using Spark MLlib"
      ]
    },
    {
      "cell_type": "markdown",
      "id": "099562db",
      "metadata": {
        "id": "099562db"
      },
      "source": [
        "## Objectives:\n",
        "- Understand and implement advanced machine learning tasks using Spark MLlib.\n",
        "- Build and evaluate models using real-world datasets.\n",
        "- Explore techniques like feature engineering and hyperparameter tuning.\n"
      ]
    },
    {
      "cell_type": "markdown",
      "id": "77df771a",
      "metadata": {
        "id": "77df771a"
      },
      "source": [
        "## Introduction to Spark MLlib\n",
        "Spark MLlib is a scalable library for machine learning that integrates seamlessly with the Spark ecosystem. It supports a wide range of tasks, including regression, classification, clustering, and collaborative filtering."
      ]
    },
    {
      "cell_type": "code",
      "execution_count": null,
      "id": "d9ae225b",
      "metadata": {
        "colab": {
          "base_uri": "https://localhost:8080/"
        },
        "id": "d9ae225b",
        "outputId": "5d21e9d9-421c-4ffb-eecb-cf14932a368d"
      },
      "outputs": [
        {
          "output_type": "stream",
          "name": "stdout",
          "text": [
            "Coefficients: [0.9999999999999992]\n",
            "Intercept: 15.000000000000009\n"
          ]
        }
      ],
      "source": [
        "# Example: Linear Regression with Spark MLlib\n",
        "from pyspark.sql import SparkSession\n",
        "from pyspark.ml.regression import LinearRegression\n",
        "from pyspark.ml.feature import VectorAssembler\n",
        "\n",
        "# Initialize Spark Session\n",
        "spark = SparkSession.builder.appName('MLlib Example').getOrCreate()\n",
        "\n",
        "# Load sample data\n",
        "data = [(1, 5.0, 20.0), (2, 10.0, 25.0), (3, 15.0, 30.0), (4, 20.0, 35.0)]\n",
        "columns = ['ID', 'Feature', 'Target']\n",
        "df = spark.createDataFrame(data, columns)\n",
        "\n",
        "# Prepare data for modeling\n",
        "assembler = VectorAssembler(inputCols=['Feature'], outputCol='Features')\n",
        "df_transformed = assembler.transform(df)\n",
        "\n",
        "# Train a linear regression model\n",
        "lr = LinearRegression(featuresCol='Features', labelCol='Target')\n",
        "model = lr.fit(df_transformed)\n",
        "\n",
        "# Print model coefficients\n",
        "print(f'Coefficients: {model.coefficients}')\n",
        "print(f'Intercept: {model.intercept}')\n"
      ]
    },
    {
      "cell_type": "code",
      "source": [
        "from pyspark.sql import SparkSession\n",
        "from pyspark.ml.classification import LogisticRegression\n",
        "from pyspark.ml.feature import VectorAssembler\n",
        "from pyspark.ml.linalg import Vectors\n",
        "\n",
        "# Initialize Spark session\n",
        "spark = SparkSession.builder.appName('Logistic Regression Example').getOrCreate()\n",
        "\n",
        "# New example dataset - corrected to use Vectors\n",
        "data = [\n",
        "    (1, Vectors.dense(3.0, 5.0), 0),\n",
        "    (2, Vectors.dense(1.5, 2.0), 1),\n",
        "    (3, Vectors.dense(4.0, 6.0), 1),\n",
        "    (4, Vectors.dense(2.5, 3.5), 0),\n",
        "    (5, Vectors.dense(6.0, 8.0), 1),\n",
        "    (6, Vectors.dense(7.5, 9.0), 1),\n",
        "    (7, Vectors.dense(2.0, 1.0), 0),\n",
        "    (8, Vectors.dense(5.5, 7.5), 1),\n",
        "    (9, Vectors.dense(6.5, 4.5), 1),\n",
        "    (10, Vectors.dense(1.0, 4.0), 0)\n",
        "]\n",
        "columns = ['ID', 'Features', 'Label']\n",
        "\n",
        "# Create DataFrame from the data\n",
        "df = spark.createDataFrame(data, columns)\n",
        "\n",
        "# Show the original DataFrame\n",
        "df.show()\n",
        "\n",
        "\n",
        "# Train logistic regression model\n",
        "lr = LogisticRegression(featuresCol='Features', labelCol='Label') # use 'Features' column directly\n",
        "\n",
        "# Fit the model\n",
        "model = lr.fit(df) # fit the model on the original DataFrame\n",
        "\n",
        "# Display coefficients and intercept\n",
        "print(f'Coefficients: {model.coefficients}')\n",
        "print(f'Intercept: {model.intercept}')\n",
        "\n",
        "# Stop the Spark session\n",
        "spark.stop()"
      ],
      "metadata": {
        "colab": {
          "base_uri": "https://localhost:8080/"
        },
        "id": "2jj6sDXFFe_E",
        "outputId": "80aa16a6-2e2b-43c8-f5be-dc158c9d8da9"
      },
      "id": "2jj6sDXFFe_E",
      "execution_count": null,
      "outputs": [
        {
          "output_type": "stream",
          "name": "stdout",
          "text": [
            "+---+---------+-----+\n",
            "| ID| Features|Label|\n",
            "+---+---------+-----+\n",
            "|  1|[3.0,5.0]|    0|\n",
            "|  2|[1.5,2.0]|    1|\n",
            "|  3|[4.0,6.0]|    1|\n",
            "|  4|[2.5,3.5]|    0|\n",
            "|  5|[6.0,8.0]|    1|\n",
            "|  6|[7.5,9.0]|    1|\n",
            "|  7|[2.0,1.0]|    0|\n",
            "|  8|[5.5,7.5]|    1|\n",
            "|  9|[6.5,4.5]|    1|\n",
            "| 10|[1.0,4.0]|    0|\n",
            "+---+---------+-----+\n",
            "\n",
            "Coefficients: [1.3449795372823035,-0.19926264994091672]\n",
            "Intercept: -3.2070200224753975\n"
          ]
        }
      ]
    },
    {
      "cell_type": "code",
      "source": [
        "from pyspark.sql import SparkSession\n",
        "from pyspark.ml.regression import LinearRegression\n",
        "from pyspark.ml.feature import VectorAssembler\n",
        "from pyspark.ml.classification import LogisticRegression\n",
        "from pyspark.ml.linalg import Vectors\n",
        "\n",
        "# Initialize Spark Session\n",
        "spark = SparkSession.builder.appName('MLlib Example').getOrCreate()\n",
        "\n",
        "# Load sample data\n",
        "data = [(1, 5.0, 20.0), (2, 10.0, 25.0), (3, 15.0, 30.0), (4, 20.0, 35.0)]\n",
        "columns = ['ID', 'Feature', 'Target']\n",
        "df = spark.createDataFrame(data, columns)\n",
        "\n",
        "# Prepare data for modeling\n",
        "assembler = VectorAssembler(inputCols=['Feature'], outputCol='Features')\n",
        "df_transformed = assembler.transform(df)\n",
        "\n",
        "# Train a linear regression model\n",
        "lr = LinearRegression(featuresCol='Features', labelCol='Target')\n",
        "model = lr.fit(df_transformed)\n",
        "\n",
        "# Print model coefficients\n",
        "print(f'Coefficients: {model.coefficients}')\n",
        "print(f'Intercept: {model.intercept}')\n",
        "\n",
        "# New example dataset - corrected to use Vectors\n",
        "data = [\n",
        "    (1, Vectors.dense(3.0, 5.0), 0),\n",
        "    (2, Vectors.dense(1.5, 2.0), 1),\n",
        "    (3, Vectors.dense(4.0, 6.0), 1),\n",
        "    (4, Vectors.dense(2.5, 3.5), 0),\n",
        "    (5, Vectors.dense(6.0, 8.0), 1),\n",
        "    (6, Vectors.dense(7.5, 9.0), 1),\n",
        "    (7, Vectors.dense(2.0, 1.0), 0),\n",
        "    (8, Vectors.dense(5.5, 7.5), 1),\n",
        "    (9, Vectors.dense(6.5, 4.5), 1),\n",
        "    (10, Vectors.dense(1.0, 4.0), 0)\n",
        "]\n",
        "columns = ['ID', 'Features', 'Label']\n",
        "\n",
        "# Create DataFrame from the data\n",
        "df = spark.createDataFrame(data, columns)\n",
        "\n",
        "# Show the original DataFrame\n",
        "df.show()\n",
        "\n",
        "# Train logistic regression model\n",
        "lr = LogisticRegression(featuresCol='Features', labelCol='Label')\n",
        "\n",
        "# Fit the model\n",
        "model = lr.fit(df)\n",
        "\n",
        "# Display coefficients and intercept\n",
        "print(f'Coefficients: {model.coefficients}')\n",
        "print(f'Intercept: {model.intercept}')\n",
        "\n",
        "# Stop the Spark session\n",
        "spark.stop()"
      ],
      "metadata": {
        "colab": {
          "base_uri": "https://localhost:8080/"
        },
        "id": "h-nGA5T1FtdN",
        "outputId": "25a39c2b-5dbd-484f-e682-036b1aee761f"
      },
      "id": "h-nGA5T1FtdN",
      "execution_count": null,
      "outputs": [
        {
          "output_type": "stream",
          "name": "stdout",
          "text": [
            "Coefficients: [0.9999999999999992]\n",
            "Intercept: 15.000000000000009\n",
            "+---+---------+-----+\n",
            "| ID| Features|Label|\n",
            "+---+---------+-----+\n",
            "|  1|[3.0,5.0]|    0|\n",
            "|  2|[1.5,2.0]|    1|\n",
            "|  3|[4.0,6.0]|    1|\n",
            "|  4|[2.5,3.5]|    0|\n",
            "|  5|[6.0,8.0]|    1|\n",
            "|  6|[7.5,9.0]|    1|\n",
            "|  7|[2.0,1.0]|    0|\n",
            "|  8|[5.5,7.5]|    1|\n",
            "|  9|[6.5,4.5]|    1|\n",
            "| 10|[1.0,4.0]|    0|\n",
            "+---+---------+-----+\n",
            "\n",
            "Coefficients: [1.3449795372823035,-0.19926264994091672]\n",
            "Intercept: -3.2070200224753975\n"
          ]
        }
      ]
    },
    {
      "cell_type": "markdown",
      "id": "a60a8d7e",
      "metadata": {
        "id": "a60a8d7e"
      },
      "source": [
        "## Homework\n",
        "- Load a real-world dataset into Spark and prepare it for machine learning tasks.\n",
        "- Build a classification model using Spark MLlib and evaluate its performance.\n",
        "- Explore hyperparameter tuning using cross-validation.\n"
      ]
    },
    {
      "cell_type": "markdown",
      "source": [
        "**1. Load a real-world dataset into Spark and prepare it for machine learning tasks.**"
      ],
      "metadata": {
        "id": "6zUNGYPrp3zP"
      },
      "id": "6zUNGYPrp3zP"
    },
    {
      "cell_type": "code",
      "source": [
        "import os\n",
        "\n",
        "# Membuat folder .kaggle\n",
        "os.makedirs('/root/.kaggle', exist_ok=True)\n",
        "\n",
        "# Memindahkan file kaggle.json ke folder .kaggle\n",
        "!mv kaggle.json /root/.kaggle/\n",
        "\n",
        "# Mengatur izin untuk file kaggle.json\n",
        "!chmod 600 /root/.kaggle/kaggle.json"
      ],
      "metadata": {
        "colab": {
          "base_uri": "https://localhost:8080/"
        },
        "id": "8rKOd0sqoF7N",
        "outputId": "ed51ab37-fb6d-44a5-a689-3a6162a466b0"
      },
      "id": "8rKOd0sqoF7N",
      "execution_count": null,
      "outputs": [
        {
          "output_type": "stream",
          "name": "stdout",
          "text": [
            "mv: cannot stat 'kaggle.json': No such file or directory\n"
          ]
        }
      ]
    },
    {
      "cell_type": "code",
      "source": [
        "import kagglehub\n",
        "\n",
        "# Download latest version\n",
        "path = kagglehub.dataset_download(\"aparnashastry/building-permit-applications-data\")\n",
        "\n",
        "print(\"Path to dataset files:\", path)"
      ],
      "metadata": {
        "colab": {
          "base_uri": "https://localhost:8080/"
        },
        "id": "qqX5N7_ioF36",
        "outputId": "0f3e5b31-de7b-4d4a-9a71-54292b53bac7"
      },
      "id": "qqX5N7_ioF36",
      "execution_count": null,
      "outputs": [
        {
          "output_type": "stream",
          "name": "stdout",
          "text": [
            "Warning: Looks like you're using an outdated `kagglehub` version (installed: 0.3.5), please consider upgrading to the latest version (0.3.6).\n",
            "Downloading from https://www.kaggle.com/api/v1/datasets/download/aparnashastry/building-permit-applications-data?dataset_version_number=1...\n"
          ]
        },
        {
          "output_type": "stream",
          "name": "stderr",
          "text": [
            "100%|██████████| 18.0M/18.0M [00:01<00:00, 13.6MB/s]"
          ]
        },
        {
          "output_type": "stream",
          "name": "stdout",
          "text": [
            "Extracting files...\n"
          ]
        },
        {
          "output_type": "stream",
          "name": "stderr",
          "text": [
            "\n"
          ]
        },
        {
          "output_type": "stream",
          "name": "stdout",
          "text": [
            "Path to dataset files: /root/.cache/kagglehub/datasets/aparnashastry/building-permit-applications-data/versions/1\n"
          ]
        }
      ]
    },
    {
      "cell_type": "code",
      "source": [
        "# Import library yang diperlukan\n",
        "import pandas as pd\n",
        "import numpy as np\n",
        "\n",
        "# Memuat dataset CSV\n",
        "df = pd.read_csv(path + \"/Building_Permits.csv\")\n",
        "\n",
        "\n",
        "# Tampilkan informasi umum dataset\n",
        "print(\"Dataset Info:\")\n",
        "df.info()"
      ],
      "metadata": {
        "colab": {
          "base_uri": "https://localhost:8080/"
        },
        "id": "miB52To5oF00",
        "outputId": "c8c1480d-1383-4779-a457-353cb8fbaf14"
      },
      "id": "miB52To5oF00",
      "execution_count": null,
      "outputs": [
        {
          "output_type": "stream",
          "name": "stderr",
          "text": [
            "<ipython-input-3-7e161e0edb73>:6: DtypeWarning: Columns (22,32) have mixed types. Specify dtype option on import or set low_memory=False.\n",
            "  df = pd.read_csv(path + \"/Building_Permits.csv\")\n"
          ]
        },
        {
          "output_type": "stream",
          "name": "stdout",
          "text": [
            "Dataset Info:\n",
            "<class 'pandas.core.frame.DataFrame'>\n",
            "RangeIndex: 198900 entries, 0 to 198899\n",
            "Data columns (total 43 columns):\n",
            " #   Column                                  Non-Null Count   Dtype  \n",
            "---  ------                                  --------------   -----  \n",
            " 0   Permit Number                           198900 non-null  object \n",
            " 1   Permit Type                             198900 non-null  int64  \n",
            " 2   Permit Type Definition                  198900 non-null  object \n",
            " 3   Permit Creation Date                    198900 non-null  object \n",
            " 4   Block                                   198900 non-null  object \n",
            " 5   Lot                                     198900 non-null  object \n",
            " 6   Street Number                           198900 non-null  int64  \n",
            " 7   Street Number Suffix                    2216 non-null    object \n",
            " 8   Street Name                             198900 non-null  object \n",
            " 9   Street Suffix                           196132 non-null  object \n",
            " 10  Unit                                    29479 non-null   float64\n",
            " 11  Unit Suffix                             1961 non-null    object \n",
            " 12  Description                             198610 non-null  object \n",
            " 13  Current Status                          198900 non-null  object \n",
            " 14  Current Status Date                     198900 non-null  object \n",
            " 15  Filed Date                              198900 non-null  object \n",
            " 16  Issued Date                             183960 non-null  object \n",
            " 17  Completed Date                          97191 non-null   object \n",
            " 18  First Construction Document Date        183954 non-null  object \n",
            " 19  Structural Notification                 6922 non-null    object \n",
            " 20  Number of Existing Stories              156116 non-null  float64\n",
            " 21  Number of Proposed Stories              156032 non-null  float64\n",
            " 22  Voluntary Soft-Story Retrofit           35 non-null      object \n",
            " 23  Fire Only Permit                        18827 non-null   object \n",
            " 24  Permit Expiration Date                  147020 non-null  object \n",
            " 25  Estimated Cost                          160834 non-null  float64\n",
            " 26  Revised Cost                            192834 non-null  float64\n",
            " 27  Existing Use                            157786 non-null  object \n",
            " 28  Existing Units                          147362 non-null  float64\n",
            " 29  Proposed Use                            156461 non-null  object \n",
            " 30  Proposed Units                          147989 non-null  float64\n",
            " 31  Plansets                                161591 non-null  float64\n",
            " 32  TIDF Compliance                         2 non-null       object \n",
            " 33  Existing Construction Type              155534 non-null  float64\n",
            " 34  Existing Construction Type Description  155534 non-null  object \n",
            " 35  Proposed Construction Type              155738 non-null  float64\n",
            " 36  Proposed Construction Type Description  155738 non-null  object \n",
            " 37  Site Permit                             5359 non-null    object \n",
            " 38  Supervisor District                     197183 non-null  float64\n",
            " 39  Neighborhoods - Analysis Boundaries     197175 non-null  object \n",
            " 40  Zipcode                                 197184 non-null  float64\n",
            " 41  Location                                197200 non-null  object \n",
            " 42  Record ID                               198900 non-null  int64  \n",
            "dtypes: float64(12), int64(3), object(28)\n",
            "memory usage: 65.3+ MB\n"
          ]
        }
      ]
    },
    {
      "cell_type": "code",
      "source": [
        "df['Estimated Cost'].fillna(df['Estimated Cost'].mean(), inplace=True)\n",
        "df['Number of Existing Stories'].fillna(df['Number of Existing Stories'].median(), inplace=True)\n",
        "df['Description'].fillna('No Description', inplace=True)\n",
        "\n",
        "df['Number of Proposed Stories'].fillna(df['Number of Proposed Stories'].median(), inplace=True)\n",
        "df['Revised Cost'].fillna(df['Revised Cost'].mean(), inplace=True)\n",
        "df['Existing Use'].fillna(df['Existing Use'].mode()[0], inplace=True)\n",
        "df['Existing Units'].fillna(df['Existing Units'].median(), inplace=True)\n",
        "df['Proposed Units'].fillna(df['Proposed Units'].median(), inplace=True)\n",
        "df['Plansets'].fillna(df['Plansets'].median(), inplace=True)\n",
        "df['Existing Construction Type'].fillna(df['Existing Construction Type'].mode()[0], inplace=True)\n",
        "df['Proposed Construction Type'].fillna(df['Proposed Construction Type'].mode()[0], inplace=True)\n",
        "df['Supervisor District'].fillna(df['Supervisor District'].median(), inplace=True)\n",
        "\n",
        "df['Permit Expiration Date'].fillna(df['Permit Expiration Date'].mode()[0], inplace=True)\n",
        "df['Issued Date'].fillna(df['Issued Date'].mode()[0], inplace=True) #\n",
        "df['First Construction Document Date'].fillna(df['First Construction Document Date'].mode()[0], inplace=True)\n",
        "df['Existing Construction Type Description'].fillna(df['Existing Construction Type Description'].mode()[0], inplace=True)\n",
        "df['Proposed Construction Type Description'].fillna(df['Proposed Construction Type Description'].mode()[0], inplace=True)\n",
        "\n",
        "\n",
        "df.dropna(subset=['Street Suffix'], inplace=True)\n",
        "df.dropna(subset=['Neighborhoods - Analysis Boundaries'], inplace=True)\n",
        "df.dropna(subset=['Proposed Use'], inplace=True)\n",
        "df.dropna(subset=['Zipcode'], inplace=True)\n",
        "\n",
        "df.drop(columns=['Street Number Suffix', 'Unit', 'Completed Date', 'Voluntary Soft-Story Retrofit', 'TIDF Compliance', 'Unit Suffix',\n",
        "                'Structural Notification', 'Site Permit', 'Fire Only Permit'\n",
        "                ], inplace=True)\n"
      ],
      "metadata": {
        "colab": {
          "base_uri": "https://localhost:8080/"
        },
        "id": "Yu9niEhMoFxe",
        "outputId": "b61740af-7473-4a18-8adb-2859c8754d19"
      },
      "id": "Yu9niEhMoFxe",
      "execution_count": null,
      "outputs": [
        {
          "output_type": "stream",
          "name": "stderr",
          "text": [
            "<ipython-input-4-3d4e8e825b90>:1: FutureWarning: A value is trying to be set on a copy of a DataFrame or Series through chained assignment using an inplace method.\n",
            "The behavior will change in pandas 3.0. This inplace method will never work because the intermediate object on which we are setting values always behaves as a copy.\n",
            "\n",
            "For example, when doing 'df[col].method(value, inplace=True)', try using 'df.method({col: value}, inplace=True)' or df[col] = df[col].method(value) instead, to perform the operation inplace on the original object.\n",
            "\n",
            "\n",
            "  df['Estimated Cost'].fillna(df['Estimated Cost'].mean(), inplace=True)\n",
            "<ipython-input-4-3d4e8e825b90>:2: FutureWarning: A value is trying to be set on a copy of a DataFrame or Series through chained assignment using an inplace method.\n",
            "The behavior will change in pandas 3.0. This inplace method will never work because the intermediate object on which we are setting values always behaves as a copy.\n",
            "\n",
            "For example, when doing 'df[col].method(value, inplace=True)', try using 'df.method({col: value}, inplace=True)' or df[col] = df[col].method(value) instead, to perform the operation inplace on the original object.\n",
            "\n",
            "\n",
            "  df['Number of Existing Stories'].fillna(df['Number of Existing Stories'].median(), inplace=True)\n",
            "<ipython-input-4-3d4e8e825b90>:3: FutureWarning: A value is trying to be set on a copy of a DataFrame or Series through chained assignment using an inplace method.\n",
            "The behavior will change in pandas 3.0. This inplace method will never work because the intermediate object on which we are setting values always behaves as a copy.\n",
            "\n",
            "For example, when doing 'df[col].method(value, inplace=True)', try using 'df.method({col: value}, inplace=True)' or df[col] = df[col].method(value) instead, to perform the operation inplace on the original object.\n",
            "\n",
            "\n",
            "  df['Description'].fillna('No Description', inplace=True)\n",
            "<ipython-input-4-3d4e8e825b90>:5: FutureWarning: A value is trying to be set on a copy of a DataFrame or Series through chained assignment using an inplace method.\n",
            "The behavior will change in pandas 3.0. This inplace method will never work because the intermediate object on which we are setting values always behaves as a copy.\n",
            "\n",
            "For example, when doing 'df[col].method(value, inplace=True)', try using 'df.method({col: value}, inplace=True)' or df[col] = df[col].method(value) instead, to perform the operation inplace on the original object.\n",
            "\n",
            "\n",
            "  df['Number of Proposed Stories'].fillna(df['Number of Proposed Stories'].median(), inplace=True)\n",
            "<ipython-input-4-3d4e8e825b90>:6: FutureWarning: A value is trying to be set on a copy of a DataFrame or Series through chained assignment using an inplace method.\n",
            "The behavior will change in pandas 3.0. This inplace method will never work because the intermediate object on which we are setting values always behaves as a copy.\n",
            "\n",
            "For example, when doing 'df[col].method(value, inplace=True)', try using 'df.method({col: value}, inplace=True)' or df[col] = df[col].method(value) instead, to perform the operation inplace on the original object.\n",
            "\n",
            "\n",
            "  df['Revised Cost'].fillna(df['Revised Cost'].mean(), inplace=True)\n",
            "<ipython-input-4-3d4e8e825b90>:7: FutureWarning: A value is trying to be set on a copy of a DataFrame or Series through chained assignment using an inplace method.\n",
            "The behavior will change in pandas 3.0. This inplace method will never work because the intermediate object on which we are setting values always behaves as a copy.\n",
            "\n",
            "For example, when doing 'df[col].method(value, inplace=True)', try using 'df.method({col: value}, inplace=True)' or df[col] = df[col].method(value) instead, to perform the operation inplace on the original object.\n",
            "\n",
            "\n",
            "  df['Existing Use'].fillna(df['Existing Use'].mode()[0], inplace=True)\n",
            "<ipython-input-4-3d4e8e825b90>:8: FutureWarning: A value is trying to be set on a copy of a DataFrame or Series through chained assignment using an inplace method.\n",
            "The behavior will change in pandas 3.0. This inplace method will never work because the intermediate object on which we are setting values always behaves as a copy.\n",
            "\n",
            "For example, when doing 'df[col].method(value, inplace=True)', try using 'df.method({col: value}, inplace=True)' or df[col] = df[col].method(value) instead, to perform the operation inplace on the original object.\n",
            "\n",
            "\n",
            "  df['Existing Units'].fillna(df['Existing Units'].median(), inplace=True)\n",
            "<ipython-input-4-3d4e8e825b90>:9: FutureWarning: A value is trying to be set on a copy of a DataFrame or Series through chained assignment using an inplace method.\n",
            "The behavior will change in pandas 3.0. This inplace method will never work because the intermediate object on which we are setting values always behaves as a copy.\n",
            "\n",
            "For example, when doing 'df[col].method(value, inplace=True)', try using 'df.method({col: value}, inplace=True)' or df[col] = df[col].method(value) instead, to perform the operation inplace on the original object.\n",
            "\n",
            "\n",
            "  df['Proposed Units'].fillna(df['Proposed Units'].median(), inplace=True)\n",
            "<ipython-input-4-3d4e8e825b90>:10: FutureWarning: A value is trying to be set on a copy of a DataFrame or Series through chained assignment using an inplace method.\n",
            "The behavior will change in pandas 3.0. This inplace method will never work because the intermediate object on which we are setting values always behaves as a copy.\n",
            "\n",
            "For example, when doing 'df[col].method(value, inplace=True)', try using 'df.method({col: value}, inplace=True)' or df[col] = df[col].method(value) instead, to perform the operation inplace on the original object.\n",
            "\n",
            "\n",
            "  df['Plansets'].fillna(df['Plansets'].median(), inplace=True)\n",
            "<ipython-input-4-3d4e8e825b90>:11: FutureWarning: A value is trying to be set on a copy of a DataFrame or Series through chained assignment using an inplace method.\n",
            "The behavior will change in pandas 3.0. This inplace method will never work because the intermediate object on which we are setting values always behaves as a copy.\n",
            "\n",
            "For example, when doing 'df[col].method(value, inplace=True)', try using 'df.method({col: value}, inplace=True)' or df[col] = df[col].method(value) instead, to perform the operation inplace on the original object.\n",
            "\n",
            "\n",
            "  df['Existing Construction Type'].fillna(df['Existing Construction Type'].mode()[0], inplace=True)\n",
            "<ipython-input-4-3d4e8e825b90>:12: FutureWarning: A value is trying to be set on a copy of a DataFrame or Series through chained assignment using an inplace method.\n",
            "The behavior will change in pandas 3.0. This inplace method will never work because the intermediate object on which we are setting values always behaves as a copy.\n",
            "\n",
            "For example, when doing 'df[col].method(value, inplace=True)', try using 'df.method({col: value}, inplace=True)' or df[col] = df[col].method(value) instead, to perform the operation inplace on the original object.\n",
            "\n",
            "\n",
            "  df['Proposed Construction Type'].fillna(df['Proposed Construction Type'].mode()[0], inplace=True)\n",
            "<ipython-input-4-3d4e8e825b90>:13: FutureWarning: A value is trying to be set on a copy of a DataFrame or Series through chained assignment using an inplace method.\n",
            "The behavior will change in pandas 3.0. This inplace method will never work because the intermediate object on which we are setting values always behaves as a copy.\n",
            "\n",
            "For example, when doing 'df[col].method(value, inplace=True)', try using 'df.method({col: value}, inplace=True)' or df[col] = df[col].method(value) instead, to perform the operation inplace on the original object.\n",
            "\n",
            "\n",
            "  df['Supervisor District'].fillna(df['Supervisor District'].median(), inplace=True)\n",
            "<ipython-input-4-3d4e8e825b90>:15: FutureWarning: A value is trying to be set on a copy of a DataFrame or Series through chained assignment using an inplace method.\n",
            "The behavior will change in pandas 3.0. This inplace method will never work because the intermediate object on which we are setting values always behaves as a copy.\n",
            "\n",
            "For example, when doing 'df[col].method(value, inplace=True)', try using 'df.method({col: value}, inplace=True)' or df[col] = df[col].method(value) instead, to perform the operation inplace on the original object.\n",
            "\n",
            "\n",
            "  df['Permit Expiration Date'].fillna(df['Permit Expiration Date'].mode()[0], inplace=True)\n",
            "<ipython-input-4-3d4e8e825b90>:16: FutureWarning: A value is trying to be set on a copy of a DataFrame or Series through chained assignment using an inplace method.\n",
            "The behavior will change in pandas 3.0. This inplace method will never work because the intermediate object on which we are setting values always behaves as a copy.\n",
            "\n",
            "For example, when doing 'df[col].method(value, inplace=True)', try using 'df.method({col: value}, inplace=True)' or df[col] = df[col].method(value) instead, to perform the operation inplace on the original object.\n",
            "\n",
            "\n",
            "  df['Issued Date'].fillna(df['Issued Date'].mode()[0], inplace=True) #\n",
            "<ipython-input-4-3d4e8e825b90>:17: FutureWarning: A value is trying to be set on a copy of a DataFrame or Series through chained assignment using an inplace method.\n",
            "The behavior will change in pandas 3.0. This inplace method will never work because the intermediate object on which we are setting values always behaves as a copy.\n",
            "\n",
            "For example, when doing 'df[col].method(value, inplace=True)', try using 'df.method({col: value}, inplace=True)' or df[col] = df[col].method(value) instead, to perform the operation inplace on the original object.\n",
            "\n",
            "\n",
            "  df['First Construction Document Date'].fillna(df['First Construction Document Date'].mode()[0], inplace=True)\n",
            "<ipython-input-4-3d4e8e825b90>:18: FutureWarning: A value is trying to be set on a copy of a DataFrame or Series through chained assignment using an inplace method.\n",
            "The behavior will change in pandas 3.0. This inplace method will never work because the intermediate object on which we are setting values always behaves as a copy.\n",
            "\n",
            "For example, when doing 'df[col].method(value, inplace=True)', try using 'df.method({col: value}, inplace=True)' or df[col] = df[col].method(value) instead, to perform the operation inplace on the original object.\n",
            "\n",
            "\n",
            "  df['Existing Construction Type Description'].fillna(df['Existing Construction Type Description'].mode()[0], inplace=True)\n",
            "<ipython-input-4-3d4e8e825b90>:19: FutureWarning: A value is trying to be set on a copy of a DataFrame or Series through chained assignment using an inplace method.\n",
            "The behavior will change in pandas 3.0. This inplace method will never work because the intermediate object on which we are setting values always behaves as a copy.\n",
            "\n",
            "For example, when doing 'df[col].method(value, inplace=True)', try using 'df.method({col: value}, inplace=True)' or df[col] = df[col].method(value) instead, to perform the operation inplace on the original object.\n",
            "\n",
            "\n",
            "  df['Proposed Construction Type Description'].fillna(df['Proposed Construction Type Description'].mode()[0], inplace=True)\n"
          ]
        }
      ]
    },
    {
      "cell_type": "code",
      "source": [
        "df['Permit Number'] = pd.to_numeric(df['Permit Number'], errors='coerce')\n",
        "# Convert date columns\n",
        "date_columns = ['Permit Creation Date', 'Current Status Date', 'Filed Date', 'Issued Date', 'First Construction Document Date']\n",
        "for col in date_columns:\n",
        "    df[col] = pd.to_datetime(df[col], errors='coerce')\n",
        "    df.info()\n"
      ],
      "metadata": {
        "colab": {
          "base_uri": "https://localhost:8080/"
        },
        "id": "L0tJOwncoFs7",
        "outputId": "5d89b630-d62c-4c19-f66e-e5abf5b1fcba"
      },
      "id": "L0tJOwncoFs7",
      "execution_count": null,
      "outputs": [
        {
          "output_type": "stream",
          "name": "stdout",
          "text": [
            "<class 'pandas.core.frame.DataFrame'>\n",
            "Index: 153202 entries, 2 to 198885\n",
            "Data columns (total 34 columns):\n",
            " #   Column                                  Non-Null Count   Dtype         \n",
            "---  ------                                  --------------   -----         \n",
            " 0   Permit Number                           153202 non-null  int64         \n",
            " 1   Permit Type                             153202 non-null  int64         \n",
            " 2   Permit Type Definition                  153202 non-null  object        \n",
            " 3   Permit Creation Date                    153202 non-null  datetime64[ns]\n",
            " 4   Block                                   153202 non-null  object        \n",
            " 5   Lot                                     153202 non-null  object        \n",
            " 6   Street Number                           153202 non-null  int64         \n",
            " 7   Street Name                             153202 non-null  object        \n",
            " 8   Street Suffix                           153202 non-null  object        \n",
            " 9   Description                             153202 non-null  object        \n",
            " 10  Current Status                          153202 non-null  object        \n",
            " 11  Current Status Date                     153202 non-null  datetime64[ns]\n",
            " 12  Filed Date                              153202 non-null  datetime64[ns]\n",
            " 13  Issued Date                             153202 non-null  datetime64[ns]\n",
            " 14  First Construction Document Date        153202 non-null  datetime64[ns]\n",
            " 15  Number of Existing Stories              153202 non-null  float64       \n",
            " 16  Number of Proposed Stories              153202 non-null  float64       \n",
            " 17  Permit Expiration Date                  153202 non-null  object        \n",
            " 18  Estimated Cost                          153202 non-null  float64       \n",
            " 19  Revised Cost                            153202 non-null  float64       \n",
            " 20  Existing Use                            153202 non-null  object        \n",
            " 21  Existing Units                          153202 non-null  float64       \n",
            " 22  Proposed Use                            153202 non-null  object        \n",
            " 23  Proposed Units                          153202 non-null  float64       \n",
            " 24  Plansets                                153202 non-null  float64       \n",
            " 25  Existing Construction Type              153202 non-null  float64       \n",
            " 26  Existing Construction Type Description  153202 non-null  object        \n",
            " 27  Proposed Construction Type              153202 non-null  float64       \n",
            " 28  Proposed Construction Type Description  153202 non-null  object        \n",
            " 29  Supervisor District                     153202 non-null  float64       \n",
            " 30  Neighborhoods - Analysis Boundaries     153202 non-null  object        \n",
            " 31  Zipcode                                 153202 non-null  float64       \n",
            " 32  Location                                153202 non-null  object        \n",
            " 33  Record ID                               153202 non-null  int64         \n",
            "dtypes: datetime64[ns](5), float64(11), int64(4), object(14)\n",
            "memory usage: 40.9+ MB\n",
            "<class 'pandas.core.frame.DataFrame'>\n",
            "Index: 153202 entries, 2 to 198885\n",
            "Data columns (total 34 columns):\n",
            " #   Column                                  Non-Null Count   Dtype         \n",
            "---  ------                                  --------------   -----         \n",
            " 0   Permit Number                           153202 non-null  int64         \n",
            " 1   Permit Type                             153202 non-null  int64         \n",
            " 2   Permit Type Definition                  153202 non-null  object        \n",
            " 3   Permit Creation Date                    153202 non-null  datetime64[ns]\n",
            " 4   Block                                   153202 non-null  object        \n",
            " 5   Lot                                     153202 non-null  object        \n",
            " 6   Street Number                           153202 non-null  int64         \n",
            " 7   Street Name                             153202 non-null  object        \n",
            " 8   Street Suffix                           153202 non-null  object        \n",
            " 9   Description                             153202 non-null  object        \n",
            " 10  Current Status                          153202 non-null  object        \n",
            " 11  Current Status Date                     153202 non-null  datetime64[ns]\n",
            " 12  Filed Date                              153202 non-null  datetime64[ns]\n",
            " 13  Issued Date                             153202 non-null  datetime64[ns]\n",
            " 14  First Construction Document Date        153202 non-null  datetime64[ns]\n",
            " 15  Number of Existing Stories              153202 non-null  float64       \n",
            " 16  Number of Proposed Stories              153202 non-null  float64       \n",
            " 17  Permit Expiration Date                  153202 non-null  object        \n",
            " 18  Estimated Cost                          153202 non-null  float64       \n",
            " 19  Revised Cost                            153202 non-null  float64       \n",
            " 20  Existing Use                            153202 non-null  object        \n",
            " 21  Existing Units                          153202 non-null  float64       \n",
            " 22  Proposed Use                            153202 non-null  object        \n",
            " 23  Proposed Units                          153202 non-null  float64       \n",
            " 24  Plansets                                153202 non-null  float64       \n",
            " 25  Existing Construction Type              153202 non-null  float64       \n",
            " 26  Existing Construction Type Description  153202 non-null  object        \n",
            " 27  Proposed Construction Type              153202 non-null  float64       \n",
            " 28  Proposed Construction Type Description  153202 non-null  object        \n",
            " 29  Supervisor District                     153202 non-null  float64       \n",
            " 30  Neighborhoods - Analysis Boundaries     153202 non-null  object        \n",
            " 31  Zipcode                                 153202 non-null  float64       \n",
            " 32  Location                                153202 non-null  object        \n",
            " 33  Record ID                               153202 non-null  int64         \n",
            "dtypes: datetime64[ns](5), float64(11), int64(4), object(14)\n",
            "memory usage: 40.9+ MB\n",
            "<class 'pandas.core.frame.DataFrame'>\n",
            "Index: 153202 entries, 2 to 198885\n",
            "Data columns (total 34 columns):\n",
            " #   Column                                  Non-Null Count   Dtype         \n",
            "---  ------                                  --------------   -----         \n",
            " 0   Permit Number                           153202 non-null  int64         \n",
            " 1   Permit Type                             153202 non-null  int64         \n",
            " 2   Permit Type Definition                  153202 non-null  object        \n",
            " 3   Permit Creation Date                    153202 non-null  datetime64[ns]\n",
            " 4   Block                                   153202 non-null  object        \n",
            " 5   Lot                                     153202 non-null  object        \n",
            " 6   Street Number                           153202 non-null  int64         \n",
            " 7   Street Name                             153202 non-null  object        \n",
            " 8   Street Suffix                           153202 non-null  object        \n",
            " 9   Description                             153202 non-null  object        \n",
            " 10  Current Status                          153202 non-null  object        \n",
            " 11  Current Status Date                     153202 non-null  datetime64[ns]\n",
            " 12  Filed Date                              153202 non-null  datetime64[ns]\n",
            " 13  Issued Date                             153202 non-null  datetime64[ns]\n",
            " 14  First Construction Document Date        153202 non-null  datetime64[ns]\n",
            " 15  Number of Existing Stories              153202 non-null  float64       \n",
            " 16  Number of Proposed Stories              153202 non-null  float64       \n",
            " 17  Permit Expiration Date                  153202 non-null  object        \n",
            " 18  Estimated Cost                          153202 non-null  float64       \n",
            " 19  Revised Cost                            153202 non-null  float64       \n",
            " 20  Existing Use                            153202 non-null  object        \n",
            " 21  Existing Units                          153202 non-null  float64       \n",
            " 22  Proposed Use                            153202 non-null  object        \n",
            " 23  Proposed Units                          153202 non-null  float64       \n",
            " 24  Plansets                                153202 non-null  float64       \n",
            " 25  Existing Construction Type              153202 non-null  float64       \n",
            " 26  Existing Construction Type Description  153202 non-null  object        \n",
            " 27  Proposed Construction Type              153202 non-null  float64       \n",
            " 28  Proposed Construction Type Description  153202 non-null  object        \n",
            " 29  Supervisor District                     153202 non-null  float64       \n",
            " 30  Neighborhoods - Analysis Boundaries     153202 non-null  object        \n",
            " 31  Zipcode                                 153202 non-null  float64       \n",
            " 32  Location                                153202 non-null  object        \n",
            " 33  Record ID                               153202 non-null  int64         \n",
            "dtypes: datetime64[ns](5), float64(11), int64(4), object(14)\n",
            "memory usage: 40.9+ MB\n",
            "<class 'pandas.core.frame.DataFrame'>\n",
            "Index: 153202 entries, 2 to 198885\n",
            "Data columns (total 34 columns):\n",
            " #   Column                                  Non-Null Count   Dtype         \n",
            "---  ------                                  --------------   -----         \n",
            " 0   Permit Number                           153202 non-null  int64         \n",
            " 1   Permit Type                             153202 non-null  int64         \n",
            " 2   Permit Type Definition                  153202 non-null  object        \n",
            " 3   Permit Creation Date                    153202 non-null  datetime64[ns]\n",
            " 4   Block                                   153202 non-null  object        \n",
            " 5   Lot                                     153202 non-null  object        \n",
            " 6   Street Number                           153202 non-null  int64         \n",
            " 7   Street Name                             153202 non-null  object        \n",
            " 8   Street Suffix                           153202 non-null  object        \n",
            " 9   Description                             153202 non-null  object        \n",
            " 10  Current Status                          153202 non-null  object        \n",
            " 11  Current Status Date                     153202 non-null  datetime64[ns]\n",
            " 12  Filed Date                              153202 non-null  datetime64[ns]\n",
            " 13  Issued Date                             153202 non-null  datetime64[ns]\n",
            " 14  First Construction Document Date        153202 non-null  datetime64[ns]\n",
            " 15  Number of Existing Stories              153202 non-null  float64       \n",
            " 16  Number of Proposed Stories              153202 non-null  float64       \n",
            " 17  Permit Expiration Date                  153202 non-null  object        \n",
            " 18  Estimated Cost                          153202 non-null  float64       \n",
            " 19  Revised Cost                            153202 non-null  float64       \n",
            " 20  Existing Use                            153202 non-null  object        \n",
            " 21  Existing Units                          153202 non-null  float64       \n",
            " 22  Proposed Use                            153202 non-null  object        \n",
            " 23  Proposed Units                          153202 non-null  float64       \n",
            " 24  Plansets                                153202 non-null  float64       \n",
            " 25  Existing Construction Type              153202 non-null  float64       \n",
            " 26  Existing Construction Type Description  153202 non-null  object        \n",
            " 27  Proposed Construction Type              153202 non-null  float64       \n",
            " 28  Proposed Construction Type Description  153202 non-null  object        \n",
            " 29  Supervisor District                     153202 non-null  float64       \n",
            " 30  Neighborhoods - Analysis Boundaries     153202 non-null  object        \n",
            " 31  Zipcode                                 153202 non-null  float64       \n",
            " 32  Location                                153202 non-null  object        \n",
            " 33  Record ID                               153202 non-null  int64         \n",
            "dtypes: datetime64[ns](5), float64(11), int64(4), object(14)\n",
            "memory usage: 40.9+ MB\n",
            "<class 'pandas.core.frame.DataFrame'>\n",
            "Index: 153202 entries, 2 to 198885\n",
            "Data columns (total 34 columns):\n",
            " #   Column                                  Non-Null Count   Dtype         \n",
            "---  ------                                  --------------   -----         \n",
            " 0   Permit Number                           153202 non-null  int64         \n",
            " 1   Permit Type                             153202 non-null  int64         \n",
            " 2   Permit Type Definition                  153202 non-null  object        \n",
            " 3   Permit Creation Date                    153202 non-null  datetime64[ns]\n",
            " 4   Block                                   153202 non-null  object        \n",
            " 5   Lot                                     153202 non-null  object        \n",
            " 6   Street Number                           153202 non-null  int64         \n",
            " 7   Street Name                             153202 non-null  object        \n",
            " 8   Street Suffix                           153202 non-null  object        \n",
            " 9   Description                             153202 non-null  object        \n",
            " 10  Current Status                          153202 non-null  object        \n",
            " 11  Current Status Date                     153202 non-null  datetime64[ns]\n",
            " 12  Filed Date                              153202 non-null  datetime64[ns]\n",
            " 13  Issued Date                             153202 non-null  datetime64[ns]\n",
            " 14  First Construction Document Date        153202 non-null  datetime64[ns]\n",
            " 15  Number of Existing Stories              153202 non-null  float64       \n",
            " 16  Number of Proposed Stories              153202 non-null  float64       \n",
            " 17  Permit Expiration Date                  153202 non-null  object        \n",
            " 18  Estimated Cost                          153202 non-null  float64       \n",
            " 19  Revised Cost                            153202 non-null  float64       \n",
            " 20  Existing Use                            153202 non-null  object        \n",
            " 21  Existing Units                          153202 non-null  float64       \n",
            " 22  Proposed Use                            153202 non-null  object        \n",
            " 23  Proposed Units                          153202 non-null  float64       \n",
            " 24  Plansets                                153202 non-null  float64       \n",
            " 25  Existing Construction Type              153202 non-null  float64       \n",
            " 26  Existing Construction Type Description  153202 non-null  object        \n",
            " 27  Proposed Construction Type              153202 non-null  float64       \n",
            " 28  Proposed Construction Type Description  153202 non-null  object        \n",
            " 29  Supervisor District                     153202 non-null  float64       \n",
            " 30  Neighborhoods - Analysis Boundaries     153202 non-null  object        \n",
            " 31  Zipcode                                 153202 non-null  float64       \n",
            " 32  Location                                153202 non-null  object        \n",
            " 33  Record ID                               153202 non-null  int64         \n",
            "dtypes: datetime64[ns](5), float64(11), int64(4), object(14)\n",
            "memory usage: 40.9+ MB\n"
          ]
        }
      ]
    },
    {
      "cell_type": "markdown",
      "source": [
        "**2. Build a classification model using Spark MLlib and evaluate its performance.**"
      ],
      "metadata": {
        "id": "3tZMUVkQaxQB"
      },
      "id": "3tZMUVkQaxQB"
    },
    {
      "cell_type": "code",
      "source": [
        "from pyspark.sql import SparkSession\n",
        "\n",
        "# Initialize a Spark session\n",
        "spark = SparkSession.builder.appName(\"BuildingPermitML\").getOrCreate()\n",
        "\n",
        "# Load the dataset into a Spark DataFrame\n",
        "spark_df = spark.createDataFrame(df)\n",
        "\n",
        "# Display the schema of the Spark DataFrame\n",
        "spark_df.printSchema()\n",
        "\n",
        "# Display the first few rows of the Spark DataFrame\n",
        "spark_df.show(5)"
      ],
      "metadata": {
        "colab": {
          "base_uri": "https://localhost:8080/"
        },
        "id": "HV89zYxCoFn9",
        "outputId": "38743459-6e20-45ea-be8d-25f01bd1bf0e"
      },
      "id": "HV89zYxCoFn9",
      "execution_count": null,
      "outputs": [
        {
          "output_type": "stream",
          "name": "stdout",
          "text": [
            "root\n",
            " |-- Permit Number: long (nullable = true)\n",
            " |-- Permit Type: long (nullable = true)\n",
            " |-- Permit Type Definition: string (nullable = true)\n",
            " |-- Permit Creation Date: timestamp (nullable = true)\n",
            " |-- Block: string (nullable = true)\n",
            " |-- Lot: string (nullable = true)\n",
            " |-- Street Number: long (nullable = true)\n",
            " |-- Street Name: string (nullable = true)\n",
            " |-- Street Suffix: string (nullable = true)\n",
            " |-- Description: string (nullable = true)\n",
            " |-- Current Status: string (nullable = true)\n",
            " |-- Current Status Date: timestamp (nullable = true)\n",
            " |-- Filed Date: timestamp (nullable = true)\n",
            " |-- Issued Date: timestamp (nullable = true)\n",
            " |-- First Construction Document Date: timestamp (nullable = true)\n",
            " |-- Number of Existing Stories: double (nullable = true)\n",
            " |-- Number of Proposed Stories: double (nullable = true)\n",
            " |-- Permit Expiration Date: string (nullable = true)\n",
            " |-- Estimated Cost: double (nullable = true)\n",
            " |-- Revised Cost: double (nullable = true)\n",
            " |-- Existing Use: string (nullable = true)\n",
            " |-- Existing Units: double (nullable = true)\n",
            " |-- Proposed Use: string (nullable = true)\n",
            " |-- Proposed Units: double (nullable = true)\n",
            " |-- Plansets: double (nullable = true)\n",
            " |-- Existing Construction Type: double (nullable = true)\n",
            " |-- Existing Construction Type Description: string (nullable = true)\n",
            " |-- Proposed Construction Type: double (nullable = true)\n",
            " |-- Proposed Construction Type Description: string (nullable = true)\n",
            " |-- Supervisor District: double (nullable = true)\n",
            " |-- Neighborhoods - Analysis Boundaries: string (nullable = true)\n",
            " |-- Zipcode: double (nullable = true)\n",
            " |-- Location: string (nullable = true)\n",
            " |-- Record ID: long (nullable = true)\n",
            "\n",
            "+-------------+-----------+----------------------+--------------------+-----+----+-------------+-----------+-------------+--------------------+--------------+-------------------+-------------------+-------------------+--------------------------------+--------------------------+--------------------------+----------------------+--------------+-----------------+-----------------+--------------+-----------------+--------------+--------+--------------------------+--------------------------------------+--------------------------+--------------------------------------+-------------------+-----------------------------------+-------+--------------------+-------------+\n",
            "|Permit Number|Permit Type|Permit Type Definition|Permit Creation Date|Block| Lot|Street Number|Street Name|Street Suffix|         Description|Current Status|Current Status Date|         Filed Date|        Issued Date|First Construction Document Date|Number of Existing Stories|Number of Proposed Stories|Permit Expiration Date|Estimated Cost|     Revised Cost|     Existing Use|Existing Units|     Proposed Use|Proposed Units|Plansets|Existing Construction Type|Existing Construction Type Description|Proposed Construction Type|Proposed Construction Type Description|Supervisor District|Neighborhoods - Analysis Boundaries|Zipcode|            Location|    Record ID|\n",
            "+-------------+-----------+----------------------+--------------------+-----+----+-------------+-----------+-------------+--------------------+--------------+-------------------+-------------------+-------------------+--------------------------------+--------------------------+--------------------------+----------------------+--------------+-----------------+-----------------+--------------+-----------------+--------------+--------+--------------------------+--------------------------------------+--------------------------+--------------------------------------+-------------------+-----------------------------------+-------+--------------------+-------------+\n",
            "| 201605278609|          3|  additions alterat...| 2016-05-27 00:00:00| 0595| 203|         1647|    Pacific|           Av|installation of s...|     withdrawn|2017-09-26 00:00:00|2016-05-27 00:00:00|2016-06-15 00:00:00|             2016-11-07 00:00:00|                       6.0|                       6.0|            02/28/2018|       20000.0|132856.1864917494|     retail sales|          39.0|     retail sales|          39.0|     2.0|                       1.0|                         constr type 1|                       1.0|                         constr type 1|                3.0|                       Russian Hill|94109.0|(37.7946573324287...|1424856504716|\n",
            "| 201611072166|          8|  otc alterations p...| 2016-11-07 00:00:00| 0156| 011|         1230|    Pacific|           Av|repair dryrot & s...|      complete|2017-07-24 00:00:00|2016-11-07 00:00:00|2017-07-18 00:00:00|             2017-07-18 00:00:00|                       2.0|                       2.0|            07/13/2018|        2000.0|           2000.0|1 family dwelling|           1.0|1 family dwelling|           1.0|     2.0|                       5.0|                        wood frame (5)|                       5.0|                        wood frame (5)|                3.0|                           Nob Hill|94109.0|(37.7959586790916...|1443574295566|\n",
            "| 201706149344|          8|  otc alterations p...| 2017-06-14 00:00:00| 4105| 009|          800|    Indiana|           St|           evac maps|        issued|2017-07-06 00:00:00|2017-06-14 00:00:00|2017-07-06 00:00:00|             2017-07-06 00:00:00|                       5.0|                       5.0|            07/01/2018|        4000.0|           4000.0|       apartments|         326.0|       apartments|         326.0|     2.0|                       1.0|                         constr type 1|                       1.0|                         constr type 1|               10.0|                       Potrero Hill|94107.0|(37.7592233134653...|1466911170855|\n",
            "| 201706300814|          8|  otc alterations p...| 2017-06-30 00:00:00| 1739| 020|         1291|       11th|           Av|          re-roofing|      complete|2017-07-12 00:00:00|2017-06-30 00:00:00|2017-06-30 00:00:00|             2017-06-30 00:00:00|                       3.0|                       3.0|            06/25/2018|       12000.0|          12000.0|       apartments|           5.0|       apartments|           5.0|     0.0|                       5.0|                        wood frame (5)|                       5.0|                        wood frame (5)|                5.0|                       Inner Sunset|94122.0|(37.7641456401385...|1468970403692|\n",
            "| 201707252846|          8|  otc alterations p...| 2017-07-25 00:00:00| 6589|002R|          681|       27th|           St|remove and replac...|         filed|2017-07-25 00:00:00|2017-07-25 00:00:00|2016-06-15 00:00:00|             2016-11-07 00:00:00|                       2.0|                       2.0|            02/28/2018|       30000.0|              0.0|1 family dwelling|           1.0|1 family dwelling|           1.0|     2.0|                       5.0|                        wood frame (5)|                       5.0|                        wood frame (5)|                8.0|                         Noe Valley|94131.0|(37.7462205625642...|1471799208305|\n",
            "+-------------+-----------+----------------------+--------------------+-----+----+-------------+-----------+-------------+--------------------+--------------+-------------------+-------------------+-------------------+--------------------------------+--------------------------+--------------------------+----------------------+--------------+-----------------+-----------------+--------------+-----------------+--------------+--------+--------------------------+--------------------------------------+--------------------------+--------------------------------------+-------------------+-----------------------------------+-------+--------------------+-------------+\n",
            "only showing top 5 rows\n",
            "\n"
          ]
        }
      ]
    },
    {
      "cell_type": "markdown",
      "source": [
        "**Klasifikasi menggunakan Random Forest Classifier**"
      ],
      "metadata": {
        "id": "b-_tK1MpbA7e"
      },
      "id": "b-_tK1MpbA7e"
    },
    {
      "cell_type": "code",
      "source": [
        "from pyspark.ml.classification import RandomForestClassifier\n",
        "from pyspark.ml.feature import VectorAssembler, StringIndexer\n",
        "from pyspark.ml.evaluation import MulticlassClassificationEvaluator\n",
        "from pyspark.ml import Pipeline\n",
        "\n",
        "\n",
        "# Convert 'Permit Type' to a numeric label using StringIndexer\n",
        "indexer = StringIndexer(inputCol=\"Permit Type\", outputCol=\"label\")\n",
        "\n",
        "# Use VectorAssembler to combine features into a single feature vector\n",
        "assembler = VectorAssembler(\n",
        "    inputCols=[\"Number of Existing Stories\", \"Number of Proposed Stories\", \"Estimated Cost\", \"Revised Cost\"],\n",
        "    outputCol=\"features\"\n",
        ")\n",
        "\n",
        "# Initialize Random Forest Classifier\n",
        "rf = RandomForestClassifier(labelCol=\"label\", featuresCol=\"features\")\n",
        "\n",
        "# Create a pipeline to chain the steps\n",
        "pipeline = Pipeline(stages=[indexer, assembler, rf])\n",
        "\n",
        "# Split data into training and testing sets (80% train, 20% test)\n",
        "train_data, test_data = spark_df.randomSplit([0.8, 0.2], seed=42)\n",
        "\n",
        "# Fit the pipeline to the training data\n",
        "model = pipeline.fit(train_data)\n",
        "\n",
        "# Make predictions on the test data\n",
        "predictions = model.transform(test_data)\n",
        "\n",
        "# Evaluate the model's accuracy using MulticlassClassificationEvaluator\n",
        "evaluator = MulticlassClassificationEvaluator(labelCol=\"label\", predictionCol=\"prediction\", metricName=\"accuracy\")\n",
        "accuracy = evaluator.evaluate(predictions)\n",
        "\n",
        "print(f\"Model Accuracy: {accuracy}\")\n",
        "print(f\"Training Data Count: {train_data.count()}\")\n",
        "print(f\"Test Data Count: {test_data.count()}\")\n",
        "\n",
        "rf_model = model.stages[2]  # Model RandomForestClassifier\n",
        "\n",
        "# Menampilkan feature importances\n",
        "print(\"Feature Importances: \", rf_model.featureImportances)"
      ],
      "metadata": {
        "colab": {
          "base_uri": "https://localhost:8080/"
        },
        "id": "b0o_-3NpoFa1",
        "outputId": "78d42399-3006-4534-fdc7-8c950d4a9976"
      },
      "id": "b0o_-3NpoFa1",
      "execution_count": null,
      "outputs": [
        {
          "output_type": "stream",
          "name": "stdout",
          "text": [
            "Model Accuracy: 0.9302989968509561\n",
            "Training Data Count: 122399\n",
            "Test Data Count: 30803\n",
            "Feature Importances:  (4,[0,1,2,3],[0.08252510489126044,0.03563458114463323,0.14611795823908227,0.7357223557250241])\n"
          ]
        }
      ]
    },
    {
      "cell_type": "markdown",
      "source": [
        "**3. Explore hyperparameter tuning using cross-validation.**\n"
      ],
      "metadata": {
        "id": "CdVSmse1rDH_"
      },
      "id": "CdVSmse1rDH_"
    },
    {
      "cell_type": "code",
      "source": [
        "from pyspark.ml.tuning import CrossValidator, ParamGridBuilder\n",
        "from pyspark.ml.evaluation import MulticlassClassificationEvaluator\n",
        "\n",
        "# Definisikan parameter grid untuk tuning\n",
        "paramGrid = (ParamGridBuilder()\n",
        "             .addGrid(rf.numTrees, [10, 20, 30])  # Jumlah pohon\n",
        "             .addGrid(rf.maxDepth, [5, 10, 15])   # Kedalaman maksimum pohon\n",
        "             .build())\n",
        "\n",
        "# Evaluator untuk cross-validation\n",
        "evaluator = MulticlassClassificationEvaluator(labelCol=\"label\", predictionCol=\"prediction\", metricName=\"accuracy\")\n",
        "\n",
        "# Inisialisasi CrossValidator\n",
        "crossval = CrossValidator(estimator=pipeline,\n",
        "                          estimatorParamMaps=paramGrid,\n",
        "                          evaluator=evaluator,\n",
        "                          numFolds=5)  # 5-fold cross-validation\n",
        "\n",
        "# Lakukan cross-validation pada data pelatihan\n",
        "cvModel = crossval.fit(train_data)\n",
        "\n",
        "# Lakukan prediksi pada data pengujian\n",
        "cvPredictions = cvModel.transform(test_data)\n",
        "\n",
        "# Evaluasi model yang di-tuning\n",
        "cvAccuracy = evaluator.evaluate(cvPredictions)\n",
        "\n",
        "# Tampilkan hasil akurasi setelah tuning hiperparameter\n",
        "print(f\"Accuracy after Hyperparameter Tuning: {cvAccuracy}\")\n",
        "\n",
        "rf_model2 = cvModel.bestModel.stages[2]  # Model RandomForestClassifier\n",
        "\n",
        "# Menampilkan fitur penting (feature importances)\n",
        "print(\"Feature Importances: \", rf_model2.featureImportances)\n"
      ],
      "metadata": {
        "colab": {
          "base_uri": "https://localhost:8080/"
        },
        "id": "gKBJVN-QoFXi",
        "outputId": "6e847a73-a1f8-4a5e-a606-b79543fb174b"
      },
      "id": "gKBJVN-QoFXi",
      "execution_count": null,
      "outputs": [
        {
          "output_type": "stream",
          "name": "stdout",
          "text": [
            "Accuracy after Hyperparameter Tuning: 0.9365646203291887\n",
            "Feature Importances:  (4,[0,1,2,3],[0.11845418281966119,0.07767704080658837,0.1686568032132273,0.6352119731605231])\n"
          ]
        }
      ]
    }
  ],
  "metadata": {
    "colab": {
      "provenance": []
    },
    "language_info": {
      "name": "python"
    },
    "kernelspec": {
      "name": "python3",
      "display_name": "Python 3"
    }
  },
  "nbformat": 4,
  "nbformat_minor": 5
}